{
 "cells": [
  {
   "cell_type": "markdown",
   "metadata": {},
   "source": [
    "Session 3 - Introduction to spaCy"
   ]
  },
  {
   "cell_type": "code",
   "execution_count": 11,
   "metadata": {},
   "outputs": [],
   "source": [
    "#Prerequisites\n",
    "import pandas as pd\n",
    "import spacy\n",
    "\n",
    "from spacy.lang.en.examples import sentences\n",
    "from spacy import displacy \n",
    "\n",
    "nlp = spacy.load(\"en_core_web_md\")\n",
    "\n",
    "### read already created csv\n",
    "#readdf = pd.read_csv(\"FILENAME\")"
   ]
  },
  {
   "cell_type": "code",
   "execution_count": 15,
   "metadata": {},
   "outputs": [
    {
     "name": "stdout",
     "output_type": "stream",
     "text": [
      "The grape Chardonnay is the parent of the well known Pinot Noir\n",
      "The DET det\n",
      "grape NOUN npadvmod\n",
      "Chardonnay PROPN nsubj\n",
      "is AUX ROOT\n",
      "the DET det\n",
      "parent NOUN attr\n",
      "of ADP prep\n",
      "the DET det\n",
      "well ADV advmod\n",
      "known VERB amod\n",
      "Pinot PROPN compound\n",
      "Noir PROPN pobj\n"
     ]
    },
    {
     "name": "stderr",
     "output_type": "stream",
     "text": [
      "/home/ucloud/.local/lib/python3.10/site-packages/spacy/displacy/__init__.py:244: UserWarning: [W117] No spans to visualize found in Doc object with spans_key: 'sc'. If this is surprising to you, make sure the Doc was processed using a model that supports span categorization, and check the `doc.spans[spans_key]` property manually if necessary.\n",
      "\n",
      "Available keys: []\n",
      "  warnings.warn(Warnings.W117.format(spans_key=spans_key, keys=keys))\n"
     ]
    },
    {
     "data": {
      "text/html": [
       "<span class=\"tex2jax_ignore\"><div class=\"spans\" style=\"line-height: 2.5; direction: ltr\">The grape Chardonnay is the parent of the well known Pinot Noir </div></span>"
      ],
      "text/plain": [
       "<IPython.core.display.HTML object>"
      ]
     },
     "metadata": {},
     "output_type": "display_data"
    }
   ],
   "source": [
    "#Loading pre-configured example. Note the use of nlp() to create the correct object for analysis\n",
    "#doc = nlp(sentences[0])\n",
    "#print(doc.text)\n",
    "#for token in doc:\n",
    "#    print(token.text, token.pos_, token.dep_)\n",
    "\n",
    "doc1 = nlp(\"The grape Chardonnay is the parent of the well known Pinot Noir\")\n",
    "\n",
    "print(doc1)\n",
    "for token in doc1:\n",
    "    print(token.text, token.pos_, token.dep_)\n",
    "\n",
    "spacy.explain(\"npadvmod\")\n",
    "\n",
    "displacy.render(doc1, style=\"dep\")"
   ]
  },
  {
   "cell_type": "code",
   "execution_count": 21,
   "metadata": {},
   "outputs": [
    {
     "name": "stdout",
     "output_type": "stream",
     "text": [
      "Chardonnay 383\n",
      "Pinot Noir 383\n"
     ]
    },
    {
     "data": {
      "text/html": [
       "<span class=\"tex2jax_ignore\"><div class=\"entities\" style=\"line-height: 2.5; direction: ltr\">The grape \n",
       "<mark class=\"entity\" style=\"background: #7aecec; padding: 0.45em 0.6em; margin: 0 0.25em; line-height: 1; border-radius: 0.35em;\">\n",
       "    Chardonnay\n",
       "    <span style=\"font-size: 0.8em; font-weight: bold; line-height: 1; border-radius: 0.35em; vertical-align: middle; margin-left: 0.5rem\">ORG</span>\n",
       "</mark>\n",
       " is the parent of the well known \n",
       "<mark class=\"entity\" style=\"background: #7aecec; padding: 0.45em 0.6em; margin: 0 0.25em; line-height: 1; border-radius: 0.35em;\">\n",
       "    Pinot Noir\n",
       "    <span style=\"font-size: 0.8em; font-weight: bold; line-height: 1; border-radius: 0.35em; vertical-align: middle; margin-left: 0.5rem\">ORG</span>\n",
       "</mark>\n",
       "</div></span>"
      ],
      "text/plain": [
       "<IPython.core.display.HTML object>"
      ]
     },
     "metadata": {},
     "output_type": "display_data"
    }
   ],
   "source": [
    "for entity in doc1.ents:\n",
    "    print(entity.text, entity.label)\n",
    "\n",
    "displacy.render(doc1, style=\"ent\")"
   ]
  },
  {
   "cell_type": "markdown",
   "metadata": {},
   "source": [
    "Working with ```pandas```"
   ]
  },
  {
   "cell_type": "code",
   "execution_count": 28,
   "metadata": {},
   "outputs": [
    {
     "data": {
      "text/plain": [
       "pos\n",
       "DET      3\n",
       "PROPN    3\n",
       "NOUN     2\n",
       "AUX      1\n",
       "ADP      1\n",
       "ADV      1\n",
       "VERB     1\n",
       "Name: count, dtype: int64"
      ]
     },
     "execution_count": 28,
     "metadata": {},
     "output_type": "execute_result"
    }
   ],
   "source": [
    "ants = []\n",
    "for token in doc1:\n",
    "    ants.append([token.text, token.pos_, token.dep_])\n",
    "\n",
    "df = pd.DataFrame(ants, columns=[\"word\", \"pos\", \"dep\"])\n",
    "df[\"pos\"].value_counts()\n",
    "\n",
    "#save data to output\n",
    "#df.to_csv(\"ants.csv\", index=F)"
   ]
  }
 ],
 "metadata": {
  "kernelspec": {
   "display_name": "Python 3",
   "language": "python",
   "name": "python3"
  },
  "language_info": {
   "codemirror_mode": {
    "name": "ipython",
    "version": 3
   },
   "file_extension": ".py",
   "mimetype": "text/x-python",
   "name": "python",
   "nbconvert_exporter": "python",
   "pygments_lexer": "ipython3",
   "version": "3.10.12"
  }
 },
 "nbformat": 4,
 "nbformat_minor": 2
}
