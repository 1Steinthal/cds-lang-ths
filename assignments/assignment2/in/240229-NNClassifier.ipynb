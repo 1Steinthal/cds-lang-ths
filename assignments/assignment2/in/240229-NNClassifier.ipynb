{
 "cells": [
  {
   "cell_type": "markdown",
   "metadata": {},
   "source": [
    "## Assignment 2, part 2\n",
    "### Neural Network Classifier of Fake News\n",
    "\n",
    "In this assignment I will have to create a set of different scripts/notebooks that can classify unseen news-text into the categories fake or real. \n",
    "\n",
    "For this second part I will train a neural network classifier on the data. This could eventually be turned into a script, but since we haven't worked with scripts it remains as a notebook for now.\n",
    "\n",
    "First we load the required packages:"
   ]
  },
  {
   "cell_type": "code",
   "execution_count": 6,
   "metadata": {},
   "outputs": [],
   "source": [
    "# system tools\n",
    "import os\n",
    "import sys\n",
    "sys.path.append(\"..\")\n",
    "\n",
    "# data munging tools\n",
    "import pandas as pd\n",
    "import utils.classifier_utils as clf\n",
    "\n",
    "# Machine learning stuff\n",
    "from sklearn.feature_extraction.text import CountVectorizer, TfidfVectorizer\n",
    "from sklearn.linear_model import LogisticRegression\n",
    "from sklearn.neural_network import MLPClassifier\n",
    "from sklearn.model_selection import train_test_split, ShuffleSplit\n",
    "from sklearn import metrics\n",
    "\n",
    "# Visualisation\n",
    "import matplotlib.pyplot as plt"
   ]
  },
  {
   "cell_type": "markdown",
   "metadata": {},
   "source": [
    "We'll start by loading our data. To create an overview, we need to:\n",
    "- Load the data\n",
    "- Create arrays with text and labels (undependents and dependents)\n",
    "- Split the dataset and extract information (transform data)\n",
    "- Fit a classifier and use it to predict unseen data\n",
    "- Evaluate the metrics and performance and save the output as a text-file\n",
    "- Save the models and the vectorised data\n",
    "\n",
    "Because of the redundancy the structure of the part 1 and 2 of this assignment is fairly similar. This could, again, be solved with a script, that pulls the same functions. \n",
    "Let's get our data loaded:"
   ]
  },
  {
   "cell_type": "code",
   "execution_count": 2,
   "metadata": {},
   "outputs": [],
   "source": [
    "data = pd.read_csv(os.path.join(\"fake_or_real_news.csv\"), index_col=0)"
   ]
  },
  {
   "cell_type": "markdown",
   "metadata": {},
   "source": [
    "We have already worked with the data, so we know its structure. It has approx equal amount of fake and real news and each text is accompanied by a title. For now we'll use simply on the text data."
   ]
  },
  {
   "cell_type": "code",
   "execution_count": 3,
   "metadata": {},
   "outputs": [],
   "source": [
    "X = data[\"text\"] #Industry-standard for training data\n",
    "y = data[\"label\"] #The dependent variable\n",
    "\n",
    "X_train, X_test, y_train, y_test = train_test_split(X,           # undependent\n",
    "                                                    y,          # dependent\n",
    "                                                    test_size=0.2,   # split\n",
    "                                                    random_state=42) # random state, because Douglas Adams..."
   ]
  },
  {
   "cell_type": "markdown",
   "metadata": {},
   "source": [
    "We cannot simply start fitting on text-data, we need it in a readable format. We use the TF-IDF to transform the words of the texts into a vectorised format - that is, we need numbers!!! We use the same attributes as Ross has suggested - one could suggest varying the number of features from 100.\n",
    "\n",
    "Because this is part two, we'll just load the vectorizer we already have! "
   ]
  },
  {
   "cell_type": "code",
   "execution_count": 4,
   "metadata": {},
   "outputs": [],
   "source": [
    "from joblib import dump, load\n",
    "inpath = os.path.join(\"..\", \"models\")\n",
    "vectorizer = load(os.path.join(inpath, \"tfidf_vectorizer.joblib\"))\n",
    "\n",
    "X_train_feats = vectorizer.fit_transform(X_train) \n",
    "X_test_feats = vectorizer.transform(X_test) #no fit here, since we already have the features. No fit on training data!!!"
   ]
  },
  {
   "cell_type": "markdown",
   "metadata": {},
   "source": [
    "Now we have a nice data-format to proceed. For this part of the assignment we use a neural network classifier. The model will have access to y as a solution sheet to train itself."
   ]
  },
  {
   "cell_type": "code",
   "execution_count": 9,
   "metadata": {},
   "outputs": [],
   "source": [
    "classifier = MLPClassifier(activation = \"logistic\",\n",
    "                           hidden_layer_sizes = (20,),\n",
    "                           max_iter=1000,\n",
    "                           random_state = 13) #New random state!\n",
    "\n",
    "classifier = classifier.fit(X_train_feats, y_train)"
   ]
  },
  {
   "cell_type": "markdown",
   "metadata": {},
   "source": [
    "Now it is time to test how well our model performs. We draw our test-set (without labels) and aim to predict the labels. The outcommented codes are important eyegazes at our model - one thing is the performance (which we'll get to shortly), but another thing is the interpretablibility. What are we actually predicting on?"
   ]
  },
  {
   "cell_type": "code",
   "execution_count": 11,
   "metadata": {},
   "outputs": [
    {
     "name": "stdout",
     "output_type": "stream",
     "text": [
      "9957     Will Trump pull a Brexit times ten? What would...\n",
      "7596     Clintons Are Under Multiple FBI Investigations...\n",
      "8905     Dispatches from Eric Zuesse This piece is cros...\n",
      "8752     Print \\n[Ed. – Every now and then the facade c...\n",
      "7804     Nanny In Jail After Force Feeding Baby To Deat...\n",
      "8690     By Belén Fernández | FAIR PHOTO ABOVE: Hillary...\n",
      "5065     The words, when they came, had lost no power o...\n",
      "5965     By Amanda Froelich It should be evident if you...\n",
      "130      A white police officer in North Charleston, S....\n",
      "7451     Tony Blair helpfully describes Remain voters a...\n",
      "6142     0 comments GOP VP candidate Mike Pence’s Trump...\n",
      "1026     Clinton lost her temper at an event on Thursda...\n",
      "4469     House Speaker Paul D. Ryan attempted to lift t...\n",
      "6874     The Washington Post \\nExcerpts: Once prohibite...\n",
      "5917     Project Veritas 4: Robert Creamer's Illegal $2...\n",
      "10397    Miss Russia AFP/East News \\nMiss Russia Alisa ...\n",
      "4618     On September 5, 2006, Eli Chomsky was an edito...\n",
      "3405     Let us be clear: Republicans in the Senate are...\n",
      "9934     October 28, 2016 Susan Rice: U.S. Must Integra...\n",
      "7767     You are here: Home / US / DISGUSTING Evolution...\n",
      "Name: text, dtype: object ['FAKE' 'FAKE' 'FAKE' 'FAKE' 'FAKE' 'FAKE' 'REAL' 'FAKE' 'REAL' 'REAL'\n",
      " 'FAKE' 'REAL' 'REAL' 'FAKE' 'REAL' 'REAL' 'FAKE' 'REAL' 'REAL' 'REAL']\n"
     ]
    }
   ],
   "source": [
    "y_pred = classifier.predict(X_test_feats)\n",
    "print(X_test[:20],y_pred[:20])"
   ]
  },
  {
   "cell_type": "markdown",
   "metadata": {},
   "source": [
    "Finally we want to evaluate. We can do this with the confusion matrix and a report."
   ]
  },
  {
   "cell_type": "code",
   "execution_count": 12,
   "metadata": {},
   "outputs": [
    {
     "data": {
      "text/plain": [
       "<sklearn.metrics._plot.confusion_matrix.ConfusionMatrixDisplay at 0x7f14b3d8cc40>"
      ]
     },
     "execution_count": 12,
     "metadata": {},
     "output_type": "execute_result"
    },
    {
     "data": {
      "image/png": "[encoded data removed]",
      "text/plain": [
       "<Figure size 640x480 with 2 Axes>"
      ]
     },
     "metadata": {},
     "output_type": "display_data"
    }
   ],
   "source": [
    "metrics.ConfusionMatrixDisplay.from_estimator(classifier,           # Classifier\n",
    "                                            X_train_feats,          # the training features\n",
    "                                            y_train,                # the training labels\n",
    "                                            cmap=plt.cm.Blues,      # layout\n",
    "                                            labels=[\"FAKE\", \"REAL\"])# the labels, arranged alphabetically"
   ]
  },
  {
   "cell_type": "code",
   "execution_count": 13,
   "metadata": {},
   "outputs": [
    {
     "name": "stdout",
     "output_type": "stream",
     "text": [
      "              precision    recall  f1-score   support\n",
      "\n",
      "        FAKE       0.84      0.82      0.83       628\n",
      "        REAL       0.83      0.85      0.84       639\n",
      "\n",
      "    accuracy                           0.83      1267\n",
      "   macro avg       0.83      0.83      0.83      1267\n",
      "weighted avg       0.83      0.83      0.83      1267\n",
      "\n"
     ]
    }
   ],
   "source": [
    "classifier_metrics = metrics.classification_report(y_test, y_pred)\n",
    "print(classifier_metrics)"
   ]
  },
  {
   "cell_type": "markdown",
   "metadata": {},
   "source": [
    "This looks reasonable, fairly high accuracy, but not a perfect classifier. Almost the same stats as our logistic regression. According to the assignment the first thing we need to do is to save this classification_report:"
   ]
  },
  {
   "cell_type": "code",
   "execution_count": 15,
   "metadata": {},
   "outputs": [],
   "source": [
    "outpath = os.path.join(\"..\", \"out\", \"NN_classification_report.txt\")\n",
    "f= open(outpath,\"w+\") #https://www.guru99.com/reading-and-writing-files-in-python.html\n",
    "f.write(classifier_metrics)\n",
    "f.close()"
   ]
  },
  {
   "cell_type": "markdown",
   "metadata": {},
   "source": [
    "Finally, we want to save the additional model to models"
   ]
  },
  {
   "cell_type": "code",
   "execution_count": 16,
   "metadata": {},
   "outputs": [
    {
     "data": {
      "text/plain": [
       "['../models/NN_classifier.joblib']"
      ]
     },
     "execution_count": 16,
     "metadata": {},
     "output_type": "execute_result"
    }
   ],
   "source": [
    "from joblib import dump, load\n",
    "outpath = os.path.join(\"..\", \"models\")\n",
    "dump(classifier, os.path.join(outpath, \"NN_classifier.joblib\"))"
   ]
  }
 ],
 "metadata": {
  "kernelspec": {
   "display_name": "Python 3",
   "language": "python",
   "name": "python3"
  },
  "language_info": {
   "codemirror_mode": {
    "name": "ipython",
    "version": 3
   },
   "file_extension": ".py",
   "mimetype": "text/x-python",
   "name": "python",
   "nbconvert_exporter": "python",
   "pygments_lexer": "ipython3",
   "version": "3.10.12"
  }
 },
 "nbformat": 4,
 "nbformat_minor": 2
}
