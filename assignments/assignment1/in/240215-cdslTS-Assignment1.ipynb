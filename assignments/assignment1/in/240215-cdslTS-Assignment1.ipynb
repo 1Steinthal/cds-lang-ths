{
 "cells": [
  {
   "cell_type": "markdown",
   "metadata": {},
   "source": [
    "# Assignment 1 - Thomas Steinthal\n",
    "\n",
    "In this assignment, I am going to loop over several essays, written by high school students, and create a dataframe in which particular aspects of the essays are assigned. I will be creating several dataset, in which each entry represents an essay in a given folder with following attributes:\n",
    "\n",
    "Relative frequency of ```nouns```, ```verbs```, ```adjectives``` and ```adverbs``` per 10000 words.\n",
    "Total number of unique names of ```names```, ```locations``` and ```organisations```."
   ]
  },
  {
   "cell_type": "code",
   "execution_count": 4,
   "metadata": {},
   "outputs": [],
   "source": [
    "#Setup. Remember to call setup.sh first\n",
    "import os #for filehandling\n",
    "import pandas as pd #for dataframes\n",
    "import re #for string segmentation\n",
    "\n",
    "import spacy #for linguistic analysis\n",
    "nlp = spacy.load(\"en_core_web_md\") #The spacy-model\n",
    "\n",
    "\n",
    "\n",
    "#Original filepath to data (I somehow have no access to copy the files to my own repository...)\n",
    "#org_path = os.path.join(\"..\", \"..\", \"..\", \"..\", \"cds-assignment-templates\", \"cds-lang-assignment-1\", \"in\", \"USEcorpus\")\n",
    "org_path = os.path.join(\"USEcorpus\")\n",
    "\n",
    "#Example to test functions out of context\n",
    "#pth = os.path.join(\"..\", \"..\", \"..\", \"..\", \"cds-assignment-templates\", \"cds-lang-assignment-1\", \"in\", \"USEcorpus\", \"a1\", \"0100.a1.txt\")\n",
    "#with open(pth, encoding=\"latin-1\") as f:\n",
    "#    example = f.read()\n",
    "#example_doc = nlp(example)\n",
    "#print(example)"
   ]
  },
  {
   "cell_type": "markdown",
   "metadata": {},
   "source": [
    "I like ```functions```. That's why I have a collection of all relevant functions underneath:\n",
    "\n",
    "Fun_list_files(path): Takes a filepath and returns a list of the content, sorted\n",
    "\n",
    "Fun_rmv_punct(s): Takes a string, s, and removes all meta-data. Could be expanded to remove more complex phenomena but has been hardcoded for now\n",
    "\n",
    "Fun_cou_rel_ling(doc, feature, per): Takes a doc (the nlp-object), a feature list (with the codes for the features as string) and a value for the denominator. A simple for-loop with count, does the job\n",
    "\n",
    "Fun_cou_tot_propn: As above (no denominer though...). Could potentially be merged with the fun_cou_rel_ling to avoid redundancy, but leaving them like this allows for fine-tuning of the two elements (linguistic features and PROPN)"
   ]
  },
  {
   "cell_type": "code",
   "execution_count": 14,
   "metadata": {},
   "outputs": [
    {
     "name": "stdout",
     "output_type": "stream",
     "text": [
      "['Thomas', 'Thomas', 'Thomas']\n",
      "['Thomas']\n",
      "1\n"
     ]
    }
   ],
   "source": [
    "def fun_list_files(path):\n",
    "    files = sorted(os.listdir(path))\n",
    "    return (files)\n",
    "\n",
    "#Remove punctuation function. Takes a string and returns it cleaned (could be extended to also require delimiters)\n",
    "def fun_rmv_punct(s):\n",
    "    s = re.sub('<.+?>', '', s) #Non-greedy pattern (https://stackoverflow.com/questions/8784396/how-to-delete-the-words-between-two-delimiters)\n",
    "    return s\n",
    "\n",
    "#Count linguistic features\n",
    "def fun_cou_rel_ling(doc, feature, per):\n",
    "    count = 0\n",
    "    for token in doc: #count-for-loop for each word in doc\n",
    "        if token.pos_ == feature:\n",
    "            count += 1\n",
    "    rel_freq = (count/len(doc)) * per #calculate relative frequency\n",
    "    \n",
    "    return rel_freq\n",
    "\n",
    "#Count propn. Because of unique features, this function works a bit different from rel_freq (above)\n",
    "def fun_cou_tot_propn(doc, feature):\n",
    "    count_list = [] #A list for all propn...\n",
    "    for token in doc:\n",
    "        if token.ent_type_ == feature:\n",
    "            count_list.append(token.text) #... is appended to list \n",
    "    c_list = list(set(count_list)) #Removing duplicates by converting to set, that doesn't allow duplicates\n",
    "    count = len(c_list)\n",
    "    return count\n"
   ]
  },
  {
   "cell_type": "markdown",
   "metadata": {},
   "source": [
    "And now for the real task. First I will define a couple of ```lists``` to make everything easier. "
   ]
  },
  {
   "cell_type": "code",
   "execution_count": 5,
   "metadata": {},
   "outputs": [],
   "source": [
    "USEcorp_list = fun_list_files(org_path) #Lists entire USEcorp-folders\n",
    "lingu_key_list = [\"NOUN\", \"VERB\", \"ADJ\", \"ADV\"] \n",
    "propn_key_list = [\"PERSON\", \"LOC\", \"ORG\"]\n",
    "column_names_list = [\"Filename\", \"Relfreq_NOUN\", \"RelFreq_VERB\", \"RelFreq_ADJ\", \"RelFreq_ADV\", \"Unique_PER\", \"Unique_LOC\", \"Unique_ORG\"]"
   ]
  },
  {
   "cell_type": "markdown",
   "metadata": {},
   "source": [
    "And then for the actual code. Eventually one could convert this entire chunk to a function.\n",
    "\n",
    "First we create a ```for-loop``` for each folder in the USE-corpus. We need to output one df for each of these so we start defining it (as a list). Then we list the files in the folder.\n",
    "\n",
    "Another ```for-loop``` is created for each file in the folder. Again we need an output, that we can append as a row to the dataframe, so that is created (or nullified). The file is also ```loaded```. \n",
    "\n",
    "First we need some ```preprocessing```. We do this with the fun_rmv_punct(text), before we ```convert``` the text to a spaCy-readable-format. \n",
    "\n",
    "Now we can start ```appending``` features to our row-list. First we pluck the four linguistic feature with the fun_cou_rel_freq and then we find the names entities with fun_cou_tot_freq. \n",
    "\n",
    "With the final list constructed, we have a list, that represent the file-specific-row in the final dataframe. We append this to the df_fea_list (that eventually will become output) before looping over again.\n",
    "\n",
    "Having looped through the entire set of files in the folder, we ```convert``` the file to a df with pd and ```save``` it with its name. Becuase the load of the process is heavy, a small print() let's us know how far the computer has got. All in all, the code took 3 minutes to run. \n",
    "\n"
   ]
  },
  {
   "cell_type": "code",
   "execution_count": 61,
   "metadata": {},
   "outputs": [
    {
     "name": "stdout",
     "output_type": "stream",
     "text": [
      "Finished a1\n",
      "Finished a2\n",
      "Finished a3\n",
      "Finished a4\n",
      "Finished a5\n",
      "Finished b1\n",
      "Finished b2\n",
      "Finished b3\n",
      "Finished b4\n",
      "Finished b5\n",
      "Finished b6\n",
      "Finished b7\n",
      "Finished b8\n",
      "Finished c1\n"
     ]
    }
   ],
   "source": [
    "\n",
    "for subfolder in USEcorp_list:\n",
    "    df_fea_list = []\n",
    "    cur_dir = os.path.join(org_path, subfolder) #current directory in loop\n",
    "    cur_file_list = fun_list_files(cur_dir)\n",
    "\n",
    "    for essay in cur_file_list:\n",
    "        fea_count_list = [essay] #The list for all features. Already named\n",
    "        cur_essay_path = os.path.join(cur_dir, essay) #current file in loop\n",
    "        with open(cur_essay_path, encoding=\"latin-1\") as f: #read file\n",
    "            text = f.read()\n",
    "        \n",
    "        text = fun_rmv_punct(text) #Removing meta-data and then transform (tokennise)\n",
    "        doc = nlp(text)\n",
    "        \n",
    "\n",
    "        #First we want to extract the relative 4 linguistic features\n",
    "        for feature in lingu_key_list:\n",
    "            fea_count = fun_cou_rel_ling(doc, feature, 10000) #per 10000 words\n",
    "            fea_count_list.append(fea_count)\n",
    "        \n",
    "        #And then the total count of PROPN\n",
    "        for ent in propn_key_list:\n",
    "            fea_count = fun_cou_tot_propn(doc, ent)\n",
    "            fea_count_list.append(fea_count)\n",
    "\n",
    "        #Finally I want to create an output dataframe for each\n",
    "        df_fea_list.append(fea_count_list)\n",
    "\n",
    "    df_features = pd.DataFrame(df_fea_list, columns = column_names_list)\n",
    "    outpath = os.path.join(\"..\", \"out\", subfolder + \"_\" + \"annotations.csv\")\n",
    "    df_features.to_csv(outpath)\n",
    "    print(\"Finished \" + subfolder) #Ran in 3 min approx\n",
    "\n",
    "\n"
   ]
  }
 ],
 "metadata": {
  "kernelspec": {
   "display_name": "Python 3",
   "language": "python",
   "name": "python3"
  },
  "language_info": {
   "codemirror_mode": {
    "name": "ipython",
    "version": 3
   },
   "file_extension": ".py",
   "mimetype": "text/x-python",
   "name": "python",
   "nbconvert_exporter": "python",
   "pygments_lexer": "ipython3",
   "version": "3.10.12"
  }
 },
 "nbformat": 4,
 "nbformat_minor": 2
}
